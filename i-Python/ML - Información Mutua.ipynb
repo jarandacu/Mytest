{
 "cells": [
  {
   "cell_type": "code",
   "execution_count": 5,
   "metadata": {},
   "outputs": [
    {
     "name": "stderr",
     "output_type": "stream",
     "text": [
      "/home/ids-pc2/anaconda3/lib/python3.6/site-packages/ipykernel_launcher.py:46: DeprecationWarning: using a non-integer array as obj in delete will result in an error in the future\n"
     ]
    }
   ],
   "source": [
    "import matplotlib.pyplot as plt\n",
    "import os, os.path\n",
    "import numpy as np\n",
    "from matplotlib import pyplot as plt\n",
    "\n",
    "DIR = 'DissolvedOxygenPrediction-master/database/'\n",
    "files=([name for name in os.listdir(DIR) if os.path.isfile(os.path.join(DIR, name))])\n",
    "n=len(files)\n",
    "var=[]\n",
    "for i in range(0,len(files)):\n",
    "    mean=np.asarray([])\n",
    "    min=np.asarray([])\n",
    "    max=np.asarray([])\n",
    "    source=DIR+files[i]\n",
    "    file = open(source, \"r\")\n",
    "    line_number=0\n",
    "    \n",
    "    for line in file:\n",
    "        if line_number==0:\n",
    "            var.append(files[i]+'_'+line.split()[3])\n",
    "            var.append(files[i]+'_'+line.split()[5])\n",
    "            var.append(files[i]+'_'+line.split()[7])\n",
    "        if line_number>=1 and len(line.split())==9:\n",
    "            mean=np.append(mean,line.split()[7])\n",
    "            min=np.append(min,line.split()[5])\n",
    "            max=np.append(max,line.split()[3])\n",
    "        elif line_number>=1 and len(line.split())==3:\n",
    "            mean=np.append(mean,0)\n",
    "            min=np.append(min,0)\n",
    "            max=np.append(max,0)\n",
    "        line_number=line_number+1\n",
    "    vars()[var[0+i*3]]=max\n",
    "    vars()[var[1+i*3]]=min\n",
    "    vars()[var[2+i*3]]=mean\n",
    "    file.close()\n",
    "    \n",
    "#Borar datos defectuosos/no adquiridos.\n",
    "ind=np.asanyarray([])\n",
    "for i in range(0,len(var)):\n",
    "    d=vars()[var[i]]\n",
    "    for j in range(0,len(vars()[var[0]])):\n",
    "        if  d[j]=='0':\n",
    "            ind=np.append(ind,j)\n",
    "            \n",
    "for i in range(0,len(var)):\n",
    "    vars()[var[i]]=(np.delete(vars()[var[i]],ind)).astype('float')\n",
    "    "
   ]
  },
  {
   "cell_type": "markdown",
   "metadata": {},
   "source": [
    "Seleccionando las \"buenas\" características.\n",
    "\n",
    "$I(X,Y) = \\sum_{y \\in Y} \\sum_{x \\in X}\n",
    "p(x,y) \\log{ \\left(\\frac{p(x,y)}{p(x)\\,p(y)}\n",
    "\\right) }$\n",
    "\n",
    "Información Mutua (IM): Mide la dependencia mutua entre variables. Lamentablemente no es una métrica y no está normalizada (no cae dentro de un rango fijo) por lo que la IM no es comparable entre 2 conjuntos de datos.\n",
    "\n",
    "Coeficientes de máxima información (CMI): Busca el engrillado óptimo y transforma la IM en una métrica que cae en el rango [0,1]."
   ]
  },
  {
   "cell_type": "markdown",
   "metadata": {},
   "source": [
    "http://blog.datadive.net/selecting-good-features-part-i-univariate-selection/"
   ]
  },
  {
   "cell_type": "code",
   "execution_count": 6,
   "metadata": {},
   "outputs": [
    {
     "name": "stdout",
     "output_type": "stream",
     "text": [
      "DO-Tmean (-0.92451892726848373, 0.0)\n",
      "DO-Tmax (-0.92052375271745712, 0.0)\n",
      "DO-Tmin (-0.92743098066732188, 0.0)\n",
      "DO-pHmean (0.0036562397422982276, 0.86554773955637687)\n",
      "DO-pHmax (0.05090161191108665, 0.018338139118268072)\n",
      "DO-pHmin (-0.033334471525855856, 0.12256248230146725)\n",
      "DO-RDmean (0.13461303141865219, 3.7938275326608846e-10)\n",
      "DO-RDmax (0.13461303141865219, 3.7938275326608846e-10)\n",
      "DO-RDmin (0.13461303141865219, 3.7938275326608846e-10)\n",
      "DO-ECmean (-0.10525909192003974, 1.0186535973607424e-06)\n",
      "DO-ECmax (-0.1055404701182774, 9.5281990315834317e-07)\n",
      "DO-ECmin (-0.092941755184364774, 1.6079557640644659e-05)\n",
      "DO-Turmean (-0.12887068314567116, 2.0620235402571026e-09)\n",
      "DO-Turmax (-0.14201655338717942, 3.8396286245875766e-11)\n",
      "DO-Turmin (-0.11572289781474657, 7.5713615198657779e-08)\n"
     ]
    }
   ],
   "source": [
    "import numpy as np\n",
    "from scipy.stats import pearsonr\n",
    "print (\"DO-Tmean\", pearsonr(Dissolved_Oxygen_mean, Temperature_mean))\n",
    "print (\"DO-Tmax\", pearsonr(Dissolved_Oxygen_mean, Temperature_max))\n",
    "print (\"DO-Tmin\", pearsonr(Dissolved_Oxygen_mean, Temperature_min))\n",
    "\n",
    "print (\"DO-pHmean\", pearsonr(Dissolved_Oxygen_mean, pH_mean))\n",
    "print (\"DO-pHmax\", pearsonr(Dissolved_Oxygen_mean, pH_min))\n",
    "print (\"DO-pHmin\", pearsonr(Dissolved_Oxygen_mean, pH_max))\n",
    "\n",
    "print (\"DO-RDmean\", pearsonr(Dissolved_Oxygen_mean, River_Discharge_mean))\n",
    "print (\"DO-RDmax\", pearsonr(Dissolved_Oxygen_mean, River_Discharge_max))\n",
    "print (\"DO-RDmin\", pearsonr(Dissolved_Oxygen_mean, River_Discharge_min))\n",
    "\n",
    "print (\"DO-ECmean\", pearsonr(Dissolved_Oxygen_mean, Electrical_Conductivity_mean))\n",
    "print (\"DO-ECmax\", pearsonr(Dissolved_Oxygen_mean, Electrical_Conductivity_max))\n",
    "print (\"DO-ECmin\", pearsonr(Dissolved_Oxygen_mean, Electrical_Conductivity_min))\n",
    "\n",
    "print (\"DO-Turmean\", pearsonr(Dissolved_Oxygen_mean, Turbidity_mean))\n",
    "print (\"DO-Turmax\", pearsonr(Dissolved_Oxygen_mean, Turbidity_max))\n",
    "print (\"DO-Turmin\", pearsonr(Dissolved_Oxygen_mean, Turbidity_min))\n"
   ]
  },
  {
   "cell_type": "code",
   "execution_count": 20,
   "metadata": {},
   "outputs": [
    {
     "name": "stdout",
     "output_type": "stream",
     "text": [
      "DO-Tmean:  0.8421582505738989\n",
      "DO-Tmax:  0.8372427545009024\n",
      "DO-Tmin:  0.8509471190981944\n",
      "\n",
      "DO-pHmean:  0.07627723989732818\n",
      "DO-pHmax:  0.09050191605573309\n",
      "DO-pHmin:  0.07902726026996836\n",
      "\n",
      "DO-RDmean:  0.1883445492733442\n",
      "DO-RDmax:  0.1883445492733442\n",
      "DO-RDmin:  0.1883445492733442\n",
      "\n",
      "DO-ECmean:  0.12686851417427064\n",
      "DO-ECmax:  0.12572555432196883\n",
      "DO-ECmin:  0.12584320096361779\n",
      "\n",
      "DO-Turmean:  0.09177935960302097\n",
      "DO-Turmax:  0.09846141365508604\n",
      "DO-Turmin:  0.07925006064911867\n",
      "\n"
     ]
    }
   ],
   "source": [
    "from minepy import MINE\n",
    "m = MINE()\n",
    "\n",
    "m.compute_score(Dissolved_Oxygen_mean, Temperature_mean)\n",
    "print (\"DO-Tmean: \",m.mic())\n",
    "m.compute_score(Dissolved_Oxygen_mean, Temperature_max)\n",
    "print (\"DO-Tmax: \",m.mic())\n",
    "m.compute_score(Dissolved_Oxygen_mean, Temperature_min)\n",
    "print (\"DO-Tmin: \",m.mic())\n",
    "print(\"\")\n",
    "m.compute_score(Dissolved_Oxygen_mean, pH_mean)\n",
    "print (\"DO-pHmean: \",m.mic())\n",
    "m.compute_score(Dissolved_Oxygen_mean, pH_max)\n",
    "print (\"DO-pHmax: \",m.mic())\n",
    "m.compute_score(Dissolved_Oxygen_mean, pH_min)\n",
    "print (\"DO-pHmin: \",m.mic())\n",
    "print(\"\")\n",
    "m.compute_score(Dissolved_Oxygen_mean, River_Discharge_mean)\n",
    "print (\"DO-RDmean: \",m.mic())\n",
    "m.compute_score(Dissolved_Oxygen_mean, River_Discharge_max)\n",
    "print (\"DO-RDmax: \",m.mic())\n",
    "m.compute_score(Dissolved_Oxygen_mean, River_Discharge_min)\n",
    "print (\"DO-RDmin: \",m.mic())\n",
    "print(\"\")\n",
    "m.compute_score(Dissolved_Oxygen_mean, Electrical_Conductivity_mean)\n",
    "print (\"DO-ECmean: \",m.mic())\n",
    "m.compute_score(Dissolved_Oxygen_mean, Electrical_Conductivity_max)\n",
    "print (\"DO-ECmax: \",m.mic())\n",
    "m.compute_score(Dissolved_Oxygen_mean, Electrical_Conductivity_min)\n",
    "print (\"DO-ECmin: \",m.mic())\n",
    "print(\"\")\n",
    "m.compute_score(Dissolved_Oxygen_mean, Turbidity_mean)\n",
    "print (\"DO-Turmean: \",m.mic())\n",
    "m.compute_score(Dissolved_Oxygen_mean, Turbidity_max)\n",
    "print (\"DO-Turmax: \",m.mic())\n",
    "m.compute_score(Dissolved_Oxygen_mean, Turbidity_min)\n",
    "print (\"DO-Turmin: \",m.mic())\n",
    "print(\"\")"
   ]
  },
  {
   "cell_type": "markdown",
   "metadata": {
    "collapsed": true
   },
   "source": [
    "Dado los valores se decide usar el River Discharge para modelar las variaciones locales utilizando GP."
   ]
  }
 ],
 "metadata": {
  "kernelspec": {
   "display_name": "Python 2",
   "language": "python",
   "name": "python2"
  },
  "language_info": {
   "codemirror_mode": {
    "name": "ipython",
    "version": 2
   },
   "file_extension": ".py",
   "mimetype": "text/x-python",
   "name": "python",
   "nbconvert_exporter": "python",
   "pygments_lexer": "ipython2",
   "version": "2.7.13"
  }
 },
 "nbformat": 4,
 "nbformat_minor": 2
}
